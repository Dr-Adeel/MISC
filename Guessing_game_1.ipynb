{
 "cells": [
  {
   "cell_type": "code",
   "execution_count": 9,
   "metadata": {},
   "outputs": [],
   "source": [
    "import tkinter as tk\n",
    "\n",
    "window = tk.Tk()\n",
    "window.title(\"My First GUI Program\")\n",
    "window.minsize(width=50, height=30)   # minimum size of the window\n",
    "\n",
    "# Label widget to display a welcome message\n",
    "label = tk.Label(text=\"Welcome to my GUI program!\", foreground=\"green\", background=\"red\", width=25, height=20)\n",
    "label.pack()\n",
    "\n",
    "# Button widget to display a message\n",
    "button1 = tk.Button(text=\"Click me!\", width=10, height=5, command=lambda: print(\"Hello, World!\"))\n",
    "button1.pack()\n",
    "\n",
    "window.mainloop()"
   ]
  },
  {
   "cell_type": "code",
   "execution_count": 13,
   "metadata": {},
   "outputs": [],
   "source": [
    "window = tk.Tk()\n",
    "window.title(\"My GUI Program\")\n",
    "window.minsize(width=50, height=30)   # minimum size of the window\n",
    "\n",
    "# Label widget to display a welcome message\n",
    "label = tk.Label(text=\"Name : \")\n",
    "label.pack()\n",
    "\n",
    "# Entry widget to accept user input\n",
    "entry = tk.Entry()\n",
    "entry.pack()\n",
    "\n",
    "window.mainloop()"
   ]
  },
  {
   "cell_type": "code",
   "execution_count": null,
   "metadata": {},
   "outputs": [],
   "source": [
    "window = tk.Tk()\n",
    "window.title(\"My GUI Program\")\n",
    "window.minsize(width=50, height=30)   # minimum size of the window\n",
    "\n",
    "textbox = tk.Text()\n",
    "textbox.pack()\n",
    "\n",
    "message1 = textbox.get(\"1.0\", \"1.5\")\n",
    "message2 = textbox.get(\"2.0\", \"2.2\")\n",
    "\n",
    "WholeMessage = textbox.get(\"1.0\", tk.END)\n",
    "\n",
    "textbox.delete(1.0) # delete all text from textbox\n",
    "\n",
    "window.mainloop()"
   ]
  },
  {
   "cell_type": "code",
   "execution_count": 15,
   "metadata": {},
   "outputs": [],
   "source": [
    "window = tk.Tk()\n",
    "window.title(\"My GUI Program\")\n",
    "window.minsize(width=50, height=30)   # minimum size of the window\n",
    "\n",
    "frame = tk.Frame()\n",
    "label = tk.Label(master=frame, text=\"I'm at (0, 0)\", width=25, height=20)\n",
    "label.pack()\n",
    "\n",
    "frame.pack()\n",
    "\n",
    "frame2 = tk.Frame()\n",
    "label2 = tk.Label(master=frame2, text=\"I'm at (20, 20)\", width=25, height=20)\n",
    "label2.pack()\n",
    "frame2.pack()\n",
    "\n",
    "\n",
    "window.mainloop()"
   ]
  },
  {
   "cell_type": "code",
   "execution_count": 16,
   "metadata": {},
   "outputs": [],
   "source": [
    "window = tk.Tk()\n",
    "window.title(\"My GUI Program\")\n",
    "\n",
    "entry = tk.Entry()\n",
    "entry.pack()\n",
    "entry.insert(0, \"Enter your name : \")\n",
    "\n",
    "window.mainloop()"
   ]
  },
  {
   "cell_type": "code",
   "execution_count": 17,
   "metadata": {},
   "outputs": [],
   "source": [
    "from tkinter import Tk, Label, Button\n",
    "\n",
    "class MyGUI:\n",
    "    def __init__(self, master):\n",
    "        self.master = master\n",
    "        master.title(\"A simple GUI\")\n",
    "\n",
    "        self.label = Label(master, text=\"This is our first GUI! within a class.\")\n",
    "        self.label.pack()\n",
    "\n",
    "        self.greet_button = Button(master, text=\"Greet\", command=self.greet)\n",
    "        self.greet_button.pack()\n",
    "\n",
    "        self.close_button = Button(master, text=\"Close\", command=master.quit)\n",
    "        self.close_button.pack()\n",
    "\n",
    "    def greet(self):\n",
    "        print(\"Greetings!\")"
   ]
  },
  {
   "cell_type": "code",
   "execution_count": 19,
   "metadata": {},
   "outputs": [
    {
     "name": "stdout",
     "output_type": "stream",
     "text": [
      "Greetings!\n",
      "Greetings!\n",
      "Greetings!\n"
     ]
    }
   ],
   "source": [
    "root = Tk()\n",
    "my_gui = MyGUI(root)\n",
    "root.mainloop()"
   ]
  },
  {
   "cell_type": "code",
   "execution_count": 20,
   "metadata": {},
   "outputs": [],
   "source": [
    "import random\n",
    "from tkinter import Tk, Label, Button, Entry, StringVar, DISABLED, NORMAL, END, W, E\n",
    "\n",
    "class GuessingGame:\n",
    "    def __init__(self, master):\n",
    "        self.master = master\n",
    "        master.title(\"Guess the Number Game\")\n",
    "\n",
    "        self.secret_number = random.randint(1, 100)\n",
    "        self.attempts = 0\n",
    "        self.guess = None\n",
    "\n",
    "        self.message = \"Guess a number from 1 to 100\"\n",
    "        self.label_text = StringVar()\n",
    "        self.label_text.set(self.message)\n",
    "        self.label = Label(master, textvariable=self.label_text)\n",
    "\n",
    "        vcmd = master.register(self.validate)\n",
    "        self.entry = Entry(master, validate=\"key\", validatecommand=(vcmd, '%P'))\n",
    "\n",
    "        self.guess_button = Button(master, text=\"Guess\", command=self.guess_number)\n",
    "        self.reset_button = Button(master, text=\"Play Again!\", command=self.reset, state=DISABLED)\n",
    "\n",
    "        self.label.grid(row=0, column=0, columnspan=2, sticky=W+E)\n",
    "        self.entry.grid(row=1, column=0, columnspan=2, sticky=W+E)\n",
    "        self.guess_button.grid(row=2, column=0)\n",
    "        self.reset_button.grid(row=2, column=1)\n",
    "\n",
    "    def validate(self, new_text):\n",
    "        if not new_text:\n",
    "            self.guess = None\n",
    "            return True\n",
    "        try:\n",
    "            self.guess = int(new_text)\n",
    "            if self.guess < 1 or self.guess > 100:\n",
    "                raise ValueError\n",
    "            return True\n",
    "        except ValueError:\n",
    "            return False\n",
    "        \n",
    "    def guess_number(self):\n",
    "        self.attempts += 1\n",
    "        if self.guess is None:\n",
    "            self.message = \"Guess a number from 1 to 100\"\n",
    "        elif self.guess == self.secret_number:\n",
    "            suffix = '' if self.attempts == 1 else 's'\n",
    "            self.message = f\"Congratulations! You guessed the number {self.secret_number} in {self.attempts} attempt{suffix}!\"\n",
    "            self.guess_button.configure(state=DISABLED)\n",
    "            self.reset_button.configure(state=NORMAL)\n",
    "        elif self.guess < self.secret_number:\n",
    "            self.message = \"Too low! Guess again!\"\n",
    "        else:\n",
    "            self.message = \"Too high! Guess again!\"\n",
    "        self.label_text.set(self.message)\n",
    "\n",
    "    def reset(self):\n",
    "        self.entry.delete(0, END)\n",
    "        self.secret_number = random.randint(1, 100)\n",
    "        self.attempts = 0\n",
    "        self.guess = None\n",
    "        self.message = \"Guess a number from 1 to 100\"\n",
    "        self.label_text.set(self.message)\n",
    "        self.guess_button.configure(state=NORMAL)\n",
    "        self.reset_button.configure(state=DISABLED)\n",
    "            "
   ]
  },
  {
   "cell_type": "code",
   "execution_count": 21,
   "metadata": {},
   "outputs": [],
   "source": [
    "root = Tk() #\n",
    "game = GuessingGame(root)\n",
    "root.mainloop()"
   ]
  }
 ],
 "metadata": {
  "kernelspec": {
   "display_name": "Python 3",
   "language": "python",
   "name": "python3"
  },
  "language_info": {
   "codemirror_mode": {
    "name": "ipython",
    "version": 3
   },
   "file_extension": ".py",
   "mimetype": "text/x-python",
   "name": "python",
   "nbconvert_exporter": "python",
   "pygments_lexer": "ipython3",
   "version": "3.11.11"
  }
 },
 "nbformat": 4,
 "nbformat_minor": 2
}
